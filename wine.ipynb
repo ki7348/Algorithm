{
  "nbformat": 4,
  "nbformat_minor": 0,
  "metadata": {
    "colab": {
      "name": "Untitled0.ipynb",
      "private_outputs": true,
      "provenance": [],
      "authorship_tag": "ABX9TyPGtRpAWF+QcCXqZwRiFRvL",
      "include_colab_link": true
    },
    "kernelspec": {
      "name": "python3",
      "display_name": "Python 3"
    },
    "language_info": {
      "name": "python"
    }
  },
  "cells": [
    {
      "cell_type": "markdown",
      "metadata": {
        "id": "view-in-github",
        "colab_type": "text"
      },
      "source": [
        "<a href=\"https://colab.research.google.com/github/ki7348/Algorithm/blob/main/wine.ipynb\" target=\"_parent\"><img src=\"https://colab.research.google.com/assets/colab-badge.svg\" alt=\"Open In Colab\"/></a>"
      ]
    },
    {
      "cell_type": "code",
      "metadata": {
        "id": "16v63-GIp_VU"
      },
      "source": [
        "import numpy as np\n",
        "import torch\n",
        "import torch.optim as optim\n",
        "import pandas as pd\n",
        "import torch.nn as nn\n",
        "from matplotlib import pyplot as plt\n",
        "import numpy as np\n",
        "torch.set_printoptions(edgeitems=2, precision=2, linewidth=75)"
      ],
      "execution_count": null,
      "outputs": []
    },
    {
      "cell_type": "code",
      "metadata": {
        "id": "6iDqQTcbqIad"
      },
      "source": [
        "import csv\n",
        "wine_path = \"./winequality-white.csv\"\n",
        "wineq_numpy = np.loadtxt(wine_path, dtype=np.float32, delimiter=\";\", skiprows=1)\n",
        "wineq_numpy"
      ],
      "execution_count": null,
      "outputs": []
    },
    {
      "cell_type": "code",
      "metadata": {
        "id": "UI0Hot3ZqJWy"
      },
      "source": [
        "col_list = next(csv.reader(open(wine_path), delimiter=';'))\n",
        "\n",
        "wineq_numpy.shape, col_list"
      ],
      "execution_count": null,
      "outputs": []
    },
    {
      "cell_type": "code",
      "metadata": {
        "id": "44XVQHe_qKLn"
      },
      "source": [
        "wineq = torch.from_numpy(wineq_numpy)\n",
        "\n",
        "wineq.shape, wineq.dtype"
      ],
      "execution_count": null,
      "outputs": []
    },
    {
      "cell_type": "code",
      "metadata": {
        "id": "QB6K5m-8qK9J"
      },
      "source": [
        "data = wineq[:, :-1] \n",
        "\n",
        "data, data.shape"
      ],
      "execution_count": null,
      "outputs": []
    },
    {
      "cell_type": "code",
      "metadata": {
        "id": "hi9N7DHHqL__"
      },
      "source": [
        "target = wineq[:, -1] \n",
        "\n",
        "target, target.shape"
      ],
      "execution_count": null,
      "outputs": []
    },
    {
      "cell_type": "code",
      "metadata": {
        "id": "P2nP9cwZqN4y"
      },
      "source": [
        "target = wineq[:, -1].long()\n",
        "\n",
        "target"
      ],
      "execution_count": null,
      "outputs": []
    },
    {
      "cell_type": "code",
      "metadata": {
        "id": "WkUHHUgZqO39"
      },
      "source": [
        "target_onehot = torch.zeros(target.shape[0],10)\n",
        "\n",
        "target = target_onehot.scatter_(1, target.unsqueeze(1),1.0)\n",
        "\n",
        "target"
      ],
      "execution_count": null,
      "outputs": []
    },
    {
      "cell_type": "code",
      "metadata": {
        "id": "MlPuDnwiqRWl"
      },
      "source": [
        "n_samples = data.shape[0]\n",
        "n_val = int(0.2 * n_samples)\n",
        "\n",
        "shuffled_indices = torch.randperm(n_samples)\n",
        "\n",
        "train_indices = shuffled_indices[:-n_val]\n",
        "val_indices = shuffled_indices[-n_val:]\n",
        "train_indices"
      ],
      "execution_count": null,
      "outputs": []
    },
    {
      "cell_type": "code",
      "metadata": {
        "id": "NctAGpHeqSTq"
      },
      "source": [
        "target_t = target[train_indices]\n",
        "target_v = target[val_indices]\n",
        "\n",
        "data_t = data[train_indices]\n",
        "data_v = data[val_indices]"
      ],
      "execution_count": null,
      "outputs": []
    },
    {
      "cell_type": "code",
      "metadata": {
        "id": "D_Q40fmkqTRu"
      },
      "source": [
        "loss_val_data = [] \n",
        "loss_train_data = [] \n",
        "\n",
        "def training_loop(n_epochs, optimizer, model, loss_fn, data_t, data_v,\n",
        "                  target_t, target_v):\n",
        "    for epoch in range(1, n_epochs + 1):\n",
        "        t_p_train = model(data_t) # <1>\n",
        "        loss_train = loss_fn(t_p_train, target_t)\n",
        "        t_p_val = model(data_v) \n",
        "        loss_val = loss_fn(t_p_val, target_v)\n",
        "\n",
        "        optimizer.zero_grad()\n",
        "        loss_train.backward()\n",
        "        optimizer.step()\n",
        "\n",
        "        loss_val_data.append(loss_val.item())\n",
        "        loss_train_data.append(loss_train.item())\n",
        "        \n",
        "        if epoch < 3 or epoch % 1000 == 0:\n",
        "          print(f\"Epoch {epoch}, Training loss {loss_train.item():.4f},\"\n",
        "                  f\" Validation loss {loss_val.item():.4f}\")\n",
        "\n",
        "linear_model = nn.Linear(11, 10)\n",
        "learning_rate = 1e-4\n",
        "optimizer = optim.SGD(linear_model.parameters(), lr=learning_rate)\n",
        "\n",
        "training_loop(\n",
        "    n_epochs = 10000, \n",
        "    optimizer = optimizer,\n",
        "    model = linear_model,\n",
        "    loss_fn = nn.MSELoss(), \n",
        "    data_t = data_t,\n",
        "    data_v = data_v, \n",
        "    target_t = target_t,\n",
        "    target_v = target_v)"
      ],
      "execution_count": null,
      "outputs": []
    },
    {
      "cell_type": "code",
      "metadata": {
        "id": "fc_E6BlMqUox"
      },
      "source": [
        "n_epochs = 10000\n",
        "plt.title('train_result');\n",
        "x = range(n_epochs)\n",
        "y = loss_train_data\n",
        "plt.xlim(5000,10000)\n",
        "plt.ylim(0.085,0.12)\n",
        "plt.plot(x,y)\n",
        "\n",
        "y = loss_val_data\n",
        "plt.plot(x,y)\n",
        "plt.show()"
      ],
      "execution_count": null,
      "outputs": []
    }
  ]
}